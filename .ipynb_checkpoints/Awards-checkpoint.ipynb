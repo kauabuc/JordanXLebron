{
 "cells": [
  {
   "cell_type": "code",
   "execution_count": 1,
   "id": "16e3bad7",
   "metadata": {},
   "outputs": [],
   "source": [
    "import pandas as pd\n",
    "import requests\n",
    "from bs4 import BeautifulSoup"
   ]
  },
  {
   "cell_type": "code",
   "execution_count": 2,
   "id": "e4462137",
   "metadata": {},
   "outputs": [],
   "source": [
    "headers = {\"User-Agent\": \"Mozilla/5.0 (Windows NT 10.0; Win64; x64) AppleWebKit/537.36 (KHTML, like Gecko) Chrome/94.0.4606.61 Safari/537.36\"}"
   ]
  },
  {
   "cell_type": "code",
   "execution_count": 3,
   "id": "1179bcf5",
   "metadata": {},
   "outputs": [],
   "source": [
    "def get_award(list_award, resume):\n",
    "        for award in list_award:\n",
    "            new_award = award.find('a').contents[0]\n",
    "            resume.append(new_award)\n"
   ]
  },
  {
   "cell_type": "code",
   "execution_count": 4,
   "id": "04a3a5d6",
   "metadata": {},
   "outputs": [],
   "source": [
    "resume_jordan = []\n",
    "url = \"https://www.basketball-reference.com/players/j/jordami01.html\"\n",
    "\n",
    "\n",
    "response = requests.get(url, headers=headers)\n",
    "text = response.text\n",
    "soup = BeautifulSoup(text, 'html.parser')\n",
    "list_award = soup.find('ul', id='bling')\n",
    "list_award = list_award.find_all('li')\n",
    "\n",
    "get_award(list_award, resume_jordan)"
   ]
  },
  {
   "cell_type": "code",
   "execution_count": 5,
   "id": "994c94eb",
   "metadata": {},
   "outputs": [
    {
     "data": {
      "text/plain": [
       "['Hall of Fame',\n",
       " '14x All Star',\n",
       " '10x Scoring Champ',\n",
       " '3x STL Champ',\n",
       " '6x NBA Champ',\n",
       " '11x All-NBA',\n",
       " '1984-85 All-Rookie',\n",
       " '1984-85 ROY',\n",
       " '9x All-Defensive',\n",
       " '3x AS MVP',\n",
       " '1987-88 Def. POY',\n",
       " '5x MVP',\n",
       " '6x Finals MVP',\n",
       " 'NBA 75th Anniv. Team']"
      ]
     },
     "execution_count": 5,
     "metadata": {},
     "output_type": "execute_result"
    }
   ],
   "source": [
    "resume_jordan"
   ]
  },
  {
   "cell_type": "code",
   "execution_count": 6,
   "id": "aba4f4a0",
   "metadata": {},
   "outputs": [
    {
     "data": {
      "text/plain": [
       "['1', '14', '10', '3', '6', '11', '1', '1', '9', '3', '1', '5', '6', '1']"
      ]
     },
     "execution_count": 6,
     "metadata": {},
     "output_type": "execute_result"
    }
   ],
   "source": [
    "\n",
    "quantity_jordan = []\n",
    "\n",
    "for i, item in enumerate(resume_jordan):\n",
    "    if 'x' in item:\n",
    "        new_item = item.split('x ') \n",
    "        quantity = new_item[0]\n",
    "        resume_jordan[i] = new_item[1]\n",
    "    else:\n",
    "        quantity = '1'\n",
    "    quantity_jordan.append(quantity)\n",
    "quantity_jordan"
   ]
  },
  {
   "cell_type": "code",
   "execution_count": 7,
   "id": "98f503c2",
   "metadata": {},
   "outputs": [],
   "source": [
    "resume_lebron = []\n",
    "url = \"https://www.basketball-reference.com/players/j/jamesle01.html\"\n",
    "\n",
    "\n",
    "response = requests.get(url, headers=headers)\n",
    "text = response.text\n",
    "soup = BeautifulSoup(text, 'html.parser')\n",
    "list_award = soup.find('ul', id='bling')\n",
    "list_award = list_award.find_all('li')\n",
    "\n",
    "get_award(list_award, resume_lebron)"
   ]
  },
  {
   "cell_type": "code",
   "execution_count": 8,
   "id": "cda5d640",
   "metadata": {},
   "outputs": [
    {
     "data": {
      "text/plain": [
       "['19x All Star',\n",
       " '2007-08 Scoring Champ',\n",
       " '2019-20 AST Champ',\n",
       " '4x NBA Champ',\n",
       " '19x All-NBA',\n",
       " '2003-04 All-Rookie',\n",
       " '2003-04 ROY',\n",
       " '3x AS MVP',\n",
       " '6x All-Defensive',\n",
       " '4x MVP',\n",
       " '4x Finals MVP',\n",
       " 'NBA 75th Anniv. Team']"
      ]
     },
     "execution_count": 8,
     "metadata": {},
     "output_type": "execute_result"
    }
   ],
   "source": [
    "resume_lebron"
   ]
  },
  {
   "cell_type": "code",
   "execution_count": 9,
   "id": "49846eb2",
   "metadata": {},
   "outputs": [
    {
     "data": {
      "text/plain": [
       "['19', '1', '1', '4', '19', '1', '1', '3', '6', '4', '4', '1']"
      ]
     },
     "execution_count": 9,
     "metadata": {},
     "output_type": "execute_result"
    }
   ],
   "source": [
    "quantity_lebron = []\n",
    "\n",
    "for i, item in enumerate(resume_lebron):\n",
    "    if 'x' in item:\n",
    "        new_item = item.split('x ') \n",
    "        quantity = new_item[0]\n",
    "        resume_lebron[i] = new_item[1]\n",
    "    else:\n",
    "        quantity = '1'\n",
    "    quantity_lebron.append(quantity)\n",
    "quantity_lebron"
   ]
  },
  {
   "cell_type": "code",
   "execution_count": 10,
   "id": "5fa77c57",
   "metadata": {},
   "outputs": [
    {
     "data": {
      "text/html": [
       "<div>\n",
       "<style scoped>\n",
       "    .dataframe tbody tr th:only-of-type {\n",
       "        vertical-align: middle;\n",
       "    }\n",
       "\n",
       "    .dataframe tbody tr th {\n",
       "        vertical-align: top;\n",
       "    }\n",
       "\n",
       "    .dataframe thead th {\n",
       "        text-align: right;\n",
       "    }\n",
       "</style>\n",
       "<table border=\"1\" class=\"dataframe\">\n",
       "  <thead>\n",
       "    <tr style=\"text-align: right;\">\n",
       "      <th></th>\n",
       "      <th>0</th>\n",
       "    </tr>\n",
       "  </thead>\n",
       "  <tbody>\n",
       "    <tr>\n",
       "      <th>1</th>\n",
       "      <td>Hall of Fame</td>\n",
       "    </tr>\n",
       "    <tr>\n",
       "      <th>14</th>\n",
       "      <td>All Star</td>\n",
       "    </tr>\n",
       "    <tr>\n",
       "      <th>10</th>\n",
       "      <td>Scoring Champ</td>\n",
       "    </tr>\n",
       "    <tr>\n",
       "      <th>3</th>\n",
       "      <td>STL Champ</td>\n",
       "    </tr>\n",
       "    <tr>\n",
       "      <th>6</th>\n",
       "      <td>NBA Champ</td>\n",
       "    </tr>\n",
       "    <tr>\n",
       "      <th>11</th>\n",
       "      <td>All-NBA</td>\n",
       "    </tr>\n",
       "    <tr>\n",
       "      <th>1</th>\n",
       "      <td>1984-85 All-Rookie</td>\n",
       "    </tr>\n",
       "    <tr>\n",
       "      <th>1</th>\n",
       "      <td>1984-85 ROY</td>\n",
       "    </tr>\n",
       "    <tr>\n",
       "      <th>9</th>\n",
       "      <td>All-Defensive</td>\n",
       "    </tr>\n",
       "    <tr>\n",
       "      <th>3</th>\n",
       "      <td>AS MVP</td>\n",
       "    </tr>\n",
       "    <tr>\n",
       "      <th>1</th>\n",
       "      <td>1987-88 Def. POY</td>\n",
       "    </tr>\n",
       "    <tr>\n",
       "      <th>5</th>\n",
       "      <td>MVP</td>\n",
       "    </tr>\n",
       "    <tr>\n",
       "      <th>6</th>\n",
       "      <td>Finals MVP</td>\n",
       "    </tr>\n",
       "    <tr>\n",
       "      <th>1</th>\n",
       "      <td>NBA 75th Anniv. Team</td>\n",
       "    </tr>\n",
       "  </tbody>\n",
       "</table>\n",
       "</div>"
      ],
      "text/plain": [
       "                       0\n",
       "1           Hall of Fame\n",
       "14              All Star\n",
       "10         Scoring Champ\n",
       "3              STL Champ\n",
       "6              NBA Champ\n",
       "11               All-NBA\n",
       "1     1984-85 All-Rookie\n",
       "1            1984-85 ROY\n",
       "9          All-Defensive\n",
       "3                 AS MVP\n",
       "1       1987-88 Def. POY\n",
       "5                    MVP\n",
       "6             Finals MVP\n",
       "1   NBA 75th Anniv. Team"
      ]
     },
     "execution_count": 10,
     "metadata": {},
     "output_type": "execute_result"
    }
   ],
   "source": [
    "jordan = pd.DataFrame(resume_jordan, quantity_jordan)\n",
    "lebron = pd.DataFrame(resume_lebron, quantity_lebron)\n",
    "jordan"
   ]
  },
  {
   "cell_type": "code",
   "execution_count": 12,
   "id": "4c70f569",
   "metadata": {},
   "outputs": [
    {
     "data": {
      "text/html": [
       "<div>\n",
       "<style scoped>\n",
       "    .dataframe tbody tr th:only-of-type {\n",
       "        vertical-align: middle;\n",
       "    }\n",
       "\n",
       "    .dataframe tbody tr th {\n",
       "        vertical-align: top;\n",
       "    }\n",
       "\n",
       "    .dataframe thead th {\n",
       "        text-align: right;\n",
       "    }\n",
       "</style>\n",
       "<table border=\"1\" class=\"dataframe\">\n",
       "  <thead>\n",
       "    <tr style=\"text-align: right;\">\n",
       "      <th></th>\n",
       "      <th>0</th>\n",
       "    </tr>\n",
       "  </thead>\n",
       "  <tbody>\n",
       "    <tr>\n",
       "      <th>19</th>\n",
       "      <td>All Star</td>\n",
       "    </tr>\n",
       "    <tr>\n",
       "      <th>1</th>\n",
       "      <td>2007-08 Scoring Champ</td>\n",
       "    </tr>\n",
       "    <tr>\n",
       "      <th>1</th>\n",
       "      <td>2019-20 AST Champ</td>\n",
       "    </tr>\n",
       "    <tr>\n",
       "      <th>4</th>\n",
       "      <td>NBA Champ</td>\n",
       "    </tr>\n",
       "    <tr>\n",
       "      <th>19</th>\n",
       "      <td>All-NBA</td>\n",
       "    </tr>\n",
       "    <tr>\n",
       "      <th>1</th>\n",
       "      <td>2003-04 All-Rookie</td>\n",
       "    </tr>\n",
       "    <tr>\n",
       "      <th>1</th>\n",
       "      <td>2003-04 ROY</td>\n",
       "    </tr>\n",
       "    <tr>\n",
       "      <th>3</th>\n",
       "      <td>AS MVP</td>\n",
       "    </tr>\n",
       "    <tr>\n",
       "      <th>6</th>\n",
       "      <td>All-Defensive</td>\n",
       "    </tr>\n",
       "    <tr>\n",
       "      <th>4</th>\n",
       "      <td>MVP</td>\n",
       "    </tr>\n",
       "    <tr>\n",
       "      <th>4</th>\n",
       "      <td>Finals MVP</td>\n",
       "    </tr>\n",
       "    <tr>\n",
       "      <th>1</th>\n",
       "      <td>NBA 75th Anniv. Team</td>\n",
       "    </tr>\n",
       "  </tbody>\n",
       "</table>\n",
       "</div>"
      ],
      "text/plain": [
       "                        0\n",
       "19               All Star\n",
       "1   2007-08 Scoring Champ\n",
       "1       2019-20 AST Champ\n",
       "4               NBA Champ\n",
       "19                All-NBA\n",
       "1      2003-04 All-Rookie\n",
       "1             2003-04 ROY\n",
       "3                  AS MVP\n",
       "6           All-Defensive\n",
       "4                     MVP\n",
       "4              Finals MVP\n",
       "1    NBA 75th Anniv. Team"
      ]
     },
     "execution_count": 12,
     "metadata": {},
     "output_type": "execute_result"
    }
   ],
   "source": [
    "lebron"
   ]
  },
  {
   "cell_type": "code",
   "execution_count": 13,
   "id": "3b61b46b",
   "metadata": {},
   "outputs": [],
   "source": [
    "jordan.to_csv('jordan_awards.csv')\n",
    "lebron.to_csv('lebron_awards.csv')"
   ]
  },
  {
   "cell_type": "code",
   "execution_count": null,
   "id": "cba95512",
   "metadata": {},
   "outputs": [],
   "source": []
  }
 ],
 "metadata": {
  "kernelspec": {
   "display_name": "Python 3 (ipykernel)",
   "language": "python",
   "name": "python3"
  },
  "language_info": {
   "codemirror_mode": {
    "name": "ipython",
    "version": 3
   },
   "file_extension": ".py",
   "mimetype": "text/x-python",
   "name": "python",
   "nbconvert_exporter": "python",
   "pygments_lexer": "ipython3",
   "version": "3.9.13"
  }
 },
 "nbformat": 4,
 "nbformat_minor": 5
}
